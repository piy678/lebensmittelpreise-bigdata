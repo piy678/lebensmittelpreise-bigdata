{
 "cells": [
  {
   "cell_type": "markdown",
   "id": "90b97f9d",
   "metadata": {},
   "source": [
    "# Analyse der Lebensmittelpreise\n",
    "\n",
    "Dieses Notebook dient der Analyse von Lebensmittelpreisen aus verschiedenen Supermärkten in Österreich."
   ]
  },
  {
   "cell_type": "markdown",
   "id": "f66b19cd",
   "metadata": {},
   "source": [
    "## Ziel\n",
    "Vergleich der Preise für Grundnahrungsmittel (z. B. Milch, Brot, Eier) in zwei Supermärkten."
   ]
  },
  {
   "cell_type": "markdown",
   "id": "165dc1c0",
   "metadata": {},
   "source": [
    "## Daten\n",
    "Wir verwenden Beispiel-Daten mit fiktiven Preisen, um erste Analysen durchzuführen."
   ]
  },
  {
   "cell_type": "code",
   "id": "e278959b",
   "metadata": {
    "ExecuteTime": {
     "end_time": "2025-04-04T20:58:29.598673Z",
     "start_time": "2025-04-04T20:58:29.572045Z"
    }
   },
   "source": [
    "import pandas as pd\n",
    "\n",
    "# Beispiel-Daten\n",
    "daten = {\n",
    "    \"Produkt\": [\"Milch\", \"Milch\", \"Brot\", \"Brot\", \"Eier\", \"Eier\"],\n",
    "    \"Supermarkt\": [\"Billa\", \"Spar\", \"Billa\", \"Spar\", \"Billa\", \"Spar\"],\n",
    "    \"Preis\": [1.29, 1.25, 2.49, 2.39, 3.29, 3.19]\n",
    "}\n",
    "\n",
    "df = pd.DataFrame(daten)\n",
    "df"
   ],
   "outputs": [
    {
     "data": {
      "text/plain": [
       "  Produkt Supermarkt  Preis\n",
       "0   Milch      Billa   1.29\n",
       "1   Milch       Spar   1.25\n",
       "2    Brot      Billa   2.49\n",
       "3    Brot       Spar   2.39\n",
       "4    Eier      Billa   3.29\n",
       "5    Eier       Spar   3.19"
      ],
      "text/html": [
       "<div>\n",
       "<style scoped>\n",
       "    .dataframe tbody tr th:only-of-type {\n",
       "        vertical-align: middle;\n",
       "    }\n",
       "\n",
       "    .dataframe tbody tr th {\n",
       "        vertical-align: top;\n",
       "    }\n",
       "\n",
       "    .dataframe thead th {\n",
       "        text-align: right;\n",
       "    }\n",
       "</style>\n",
       "<table border=\"1\" class=\"dataframe\">\n",
       "  <thead>\n",
       "    <tr style=\"text-align: right;\">\n",
       "      <th></th>\n",
       "      <th>Produkt</th>\n",
       "      <th>Supermarkt</th>\n",
       "      <th>Preis</th>\n",
       "    </tr>\n",
       "  </thead>\n",
       "  <tbody>\n",
       "    <tr>\n",
       "      <th>0</th>\n",
       "      <td>Milch</td>\n",
       "      <td>Billa</td>\n",
       "      <td>1.29</td>\n",
       "    </tr>\n",
       "    <tr>\n",
       "      <th>1</th>\n",
       "      <td>Milch</td>\n",
       "      <td>Spar</td>\n",
       "      <td>1.25</td>\n",
       "    </tr>\n",
       "    <tr>\n",
       "      <th>2</th>\n",
       "      <td>Brot</td>\n",
       "      <td>Billa</td>\n",
       "      <td>2.49</td>\n",
       "    </tr>\n",
       "    <tr>\n",
       "      <th>3</th>\n",
       "      <td>Brot</td>\n",
       "      <td>Spar</td>\n",
       "      <td>2.39</td>\n",
       "    </tr>\n",
       "    <tr>\n",
       "      <th>4</th>\n",
       "      <td>Eier</td>\n",
       "      <td>Billa</td>\n",
       "      <td>3.29</td>\n",
       "    </tr>\n",
       "    <tr>\n",
       "      <th>5</th>\n",
       "      <td>Eier</td>\n",
       "      <td>Spar</td>\n",
       "      <td>3.19</td>\n",
       "    </tr>\n",
       "  </tbody>\n",
       "</table>\n",
       "</div>"
      ]
     },
     "execution_count": 37,
     "metadata": {},
     "output_type": "execute_result"
    }
   ],
   "execution_count": 37
  },
  {
   "cell_type": "markdown",
   "id": "ba1692c8",
   "metadata": {},
   "source": [
    "## Analyse\n",
    "Wir berechnen die Durchschnittspreise pro Produkt und pro Supermarkt."
   ]
  },
  {
   "metadata": {
    "ExecuteTime": {
     "end_time": "2025-04-04T20:58:29.618448Z",
     "start_time": "2025-04-04T20:58:29.607630Z"
    }
   },
   "cell_type": "code",
   "source": [
    "# Durchschnittspreis pro Produkt\n",
    "durchschnitt_produkt = df.groupby(\"Produkt\")[\"Preis\"].mean()\n",
    "print(\"Durchschnittspreis pro Produkt:\")\n",
    "print(durchschnitt_produkt)\n",
    "\n",
    "# Durchschnittspreis pro Supermarkt\n",
    "durchschnitt_supermarkt = df.groupby(\"Supermarkt\")[\"Preis\"].mean()\n",
    "print(\"\\nDurchschnittspreis pro Supermarkt:\")\n",
    "print(durchschnitt_supermarkt)"
   ],
   "id": "e4cdef436f880454",
   "outputs": [
    {
     "name": "stdout",
     "output_type": "stream",
     "text": [
      "Durchschnittspreis pro Produkt:\n",
      "Produkt\n",
      "Brot     2.44\n",
      "Eier     3.24\n",
      "Milch    1.27\n",
      "Name: Preis, dtype: float64\n",
      "\n",
      "Durchschnittspreis pro Supermarkt:\n",
      "Supermarkt\n",
      "Billa    2.356667\n",
      "Spar     2.276667\n",
      "Name: Preis, dtype: float64\n"
     ]
    }
   ],
   "execution_count": 38
  },
  {
   "metadata": {},
   "cell_type": "markdown",
   "source": [
    "## Visualisierung\n",
    "Ein einfacher Balkendiagramm zur Darstellung der Durchschnittspreise pro Produkt."
   ],
   "id": "14d24ba9"
  },
  {
   "metadata": {
    "ExecuteTime": {
     "end_time": "2025-04-04T20:58:29.730843Z",
     "start_time": "2025-04-04T20:58:29.643757Z"
    }
   },
   "cell_type": "code",
   "source": [
    "import matplotlib.pyplot as plt\n",
    "\n",
    "durchschnitt_produkt.plot(kind='bar', title='Durchschnittspreise pro Produkt', ylabel='Preis (€)', xlabel='Produkt', color='skyblue')\n",
    "plt.grid(axis='y')\n",
    "plt.tight_layout()\n",
    "plt.show()\n"
   ],
   "id": "bc593a15e09413f",
   "outputs": [
    {
     "data": {
      "text/plain": [
       "<Figure size 640x480 with 1 Axes>"
      ],
      "image/png": "[encoded data removed]"
     },
     "metadata": {},
     "output_type": "display_data"
    }
   ],
   "execution_count": 39
  },
  {
   "metadata": {},
   "cell_type": "markdown",
   "source": [
    "## Fazit\n",
    "- Spar ist in diesem Beispiel etwas günstiger.\n",
    "- Eier sind das teuerste Produkt.\n",
    "\n",
    "Diese Analyse dient als Grundlage für weitere Auswertungen mit echten Daten aus dem Scraping."
   ],
   "id": "1c27b89246c5bdfb"
  }
 ],
 "metadata": {
  "kernelspec": {
   "display_name": "Python 3 (ipykernel)",
   "language": "python",
   "name": "python3"
  },
  "language_info": {
   "codemirror_mode": {
    "name": "ipython",
    "version": 3
   },
   "file_extension": ".py",
   "mimetype": "text/x-python",
   "name": "python",
   "nbconvert_exporter": "python",
   "pygments_lexer": "ipython3",
   "version": "3.12.7"
  }
 },
 "nbformat": 4,
 "nbformat_minor": 5
}
