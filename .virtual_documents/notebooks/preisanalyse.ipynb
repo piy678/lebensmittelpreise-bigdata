!pip install pymongo












from pymongo import MongoClient
import pandas as pd

# Verbindung zur MongoDB
client = MongoClient("mongodb://localhost:27017/")
db = client["supermarkt_preise"]
collection = db["lebensmittel"]

# Daten abrufen
daten = list(collection.find())
df = pd.DataFrame(daten)

# Falls '_id' vorhanden, entfernen
if '_id' in df.columns:
    df.drop(columns=['_id'], inplace=True)

df.head()








# Falls nötig: Konvertiere Preis-Spalte von String zu Float
if df["Preis"].dtype != float:
    df["Preis"] = df["Preis"].astype(str).str.replace("€", "").str.replace(",", ".").astype(float)


# Vorschau nach der Umwandlung
df.head()






# Durchschnittspreis pro Produkt
durchschnitt_produkt = df.groupby("Produkt")["Preis"].mean().sort_values()
print("Durchschnittspreis pro Produkt:")
print(durchschnitt_produkt)





durchschnitt_supermarkt = df.groupby("Supermarkt")["Preis"].mean().sort_values()
print("\nDurchschnittspreis pro Supermarkt:")
print(durchschnitt_supermarkt)






## Boxplot nach Supermarkt
import seaborn as sns
import matplotlib.pyplot as plt

plt.figure(figsize=(10, 6))
sns.boxplot(data=df, x="Supermarkt", y="Preis", hue="Supermarkt", palette="Set2", legend=False)
plt.title("Preisverteilung pro Supermarkt")
plt.ylabel("Preis (€)")
plt.xlabel("Supermarkt")
plt.grid(axis="y")
plt.tight_layout()
plt.show()




## Histogramm aller Preise
plt.figure(figsize=(10, 6))
plt.hist(df["Preis"], bins=30, color="skyblue", edgecolor="black")
plt.title("Verteilung der Lebensmittelpreise")
plt.xlabel("Preis (€)")
plt.ylabel("Anzahl der Produkte")
plt.grid(axis="y")
plt.tight_layout()
plt.show()


# Teuerste Produkte
top10 = durchschnitt_produkt.sort_values(ascending=False).head(10)

plt.figure(figsize=(10, 5))
top10.plot(kind='bar', title='Top 10 teuerste Produkte', ylabel='Preis (€)', xlabel='Produkt', color='tomato')
plt.grid(axis='y')
plt.tight_layout()
plt.show()






# Manuelle MapReduce-Logik: Durchschnittspreis pro Produkt

mapped = {}
for _, row in df.iterrows():
    produkt = row["Produkt"]
    preis = row["Preis"]
    if produkt not in mapped:
        mapped[produkt] = []
    mapped[produkt].append(preis)

# Reduce: Durchschnitt berechnen
reduced = {produkt: sum(preise)/len(preise) for produkt, preise in mapped.items()}

# Ergebnis anzeigen (Top 5)
for produkt, avg in list(reduced.items())[:5]:
    print(f"{produkt}: {avg:.2f} €")



